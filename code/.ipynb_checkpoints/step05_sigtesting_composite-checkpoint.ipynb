{
 "cells": [
  {
   "cell_type": "markdown",
   "metadata": {},
   "source": [
    "## Analyze significance of paleoclimate anomaly composities using normal statistical tests and a resampling approach. This script will create composite average Temperature, Precipitation, and PDSI anomaly maps from the paleo-record from early (-7.67 days, >1 st. dev.) harvest years.\n",
    "\n",
    "## Paleoclimate Datasets\n",
    "\n",
    "* Seasonal temperature reconstruction (Lutberacher, 2004; Xoplaki, 2005):\n",
    "    https://www.ncdc.noaa.gov/cdo/f?p=519:1:0::::P1_STUDY_ID:6288\n",
    "* Seasonal precipitation reconstruction (Pauling, 2005):\n",
    "    https://crudata.uea.ac.uk/cru/projects/soap/data/recon/#paul05\n",
    "* Summer (JJA) PDSI reconstruction, Old World Drought Atlas (Cook, 2015):\n",
    "    https://www.ncdc.noaa.gov/cdo/f?p=519:1:::::P1_STUDY_ID:19419\n",
    "    \n",
    "* Season of analysis: June-July-August (JJA)\n",
    "\n",
    "## Tasks\n",
    "* Load in the paleoclimate datasets and anomalize these datasets to zero mean over same interval as GHD-Core\n",
    "* Pool together paleoclimate anomalies for early harvests\n",
    "* \n",
    "\n",
    "## Setup\n",
    "* Clear the workspace\n",
    "* Load modules.\n",
    "* Define function for plotting regional averaging rectangle on the maps."
   ]
  },
  {
   "cell_type": "code",
   "execution_count": 294,
   "metadata": {
    "collapsed": false
   },
   "outputs": [],
   "source": [
    "reset -f"
   ]
  },
  {
   "cell_type": "code",
   "execution_count": 295,
   "metadata": {
    "collapsed": false
   },
   "outputs": [],
   "source": [
    "# Setup the Analysis\n",
    "import calendar\n",
    "import numpy as np\n",
    "import netCDF4\n",
    "import matplotlib\n",
    "import copy\n",
    "from matplotlib import pyplot as plt\n",
    "import scipy\n",
    "import seaborn as sns\n",
    "import pandas as pd\n",
    "import scipy.stats as stats\n",
    "import datetime\n",
    "from mpl_toolkits.basemap import Basemap, cm\n",
    "from IPython.display import display\n",
    "\n",
    "# Embeds plots inside the notebook\n",
    "%matplotlib inline\n",
    "\n",
    "# For plotting a rectangle on the maps\n",
    "def plot_rectangle(bmap, lonmin,lonmax,latmin,latmax):\n",
    "    xs = [lonmin,lonmax,lonmax,lonmin,lonmin]\n",
    "    ys = [latmin,latmin,latmax,latmax,latmin]\n",
    "    bmap.plot(xs, ys,latlon = True, color='k', linestyle='--', linewidth=3)\n",
    "\n",
    "# Resampling function\n",
    "def bootstrap_resample(X, n=None):\n",
    "    \"\"\" Bootstrap resample an array_like\n",
    "    Parameters\n",
    "    ----------\n",
    "    X : array_like\n",
    "      data to resample\n",
    "    n : int, optional\n",
    "      length of resampled array, equal to len(X) if n==None\n",
    "    Results\n",
    "    -------\n",
    "    returns X_resamples\n",
    "    \"\"\"\n",
    "    if n == None:\n",
    "        n = len(X)\n",
    "        \n",
    "    resample_i = np.floor(np.random.rand(n)*len(X)).astype(int)\n",
    "    X_resample = X[resample_i]\n",
    "    return X_resample"
   ]
  },
  {
   "cell_type": "markdown",
   "metadata": {},
   "source": [
    "### Set the time intervals to coompare. \n",
    "* I am comparing early harvest composites from 1600-1980 against 1981-2007."
   ]
  },
  {
   "cell_type": "code",
   "execution_count": 296,
   "metadata": {
    "collapsed": false
   },
   "outputs": [],
   "source": [
    "# User defined variables\n",
    "# Years to sample from-I am going to split the analysis into an Early Period and a Later Period\n",
    "yrs_before = np.arange(1600,1981); yrs_after  = np.arange(1981,2008);\n",
    "\n",
    "# Rectangle Boundaries for regional averaging\n",
    "lonmin=-2; lonmax=8; latmin=43; latmax=51\n",
    "\n",
    "# baseline period for anomaly calculation. Should be same as base period in setp01_proc_ghd.py\n",
    "base_period = np.arange(1600,1901)   \n",
    "\n",
    "# User defined variables\n",
    "# Set threshold GHD anomaly for compositing\n",
    "harvest_thresh = -7.67;  # about 1 standard deviation for GHDmean or GHD core\n",
    "\n",
    "# GHD Data to choose\n",
    "ghd_name = 'GHDcore'\n"
   ]
  },
  {
   "cell_type": "markdown",
   "metadata": {},
   "source": [
    "### Load in all the datasets: the GHD anomalies and the various paleoclimate reconstructions."
   ]
  },
  {
   "cell_type": "code",
   "execution_count": 297,
   "metadata": {
    "collapsed": false
   },
   "outputs": [
    {
     "data": {
      "text/plain": [
       "<function Dataset.close>"
      ]
     },
     "execution_count": 297,
     "metadata": {},
     "output_type": "execute_result"
    }
   ],
   "source": [
    "# Load and properly format wine data\n",
    "infile= '../data/ghd_anom_doy_v02.csv'   # Name of the original data file\n",
    "\n",
    "df=pd.read_csv(infile)\n",
    "\n",
    "# Pull out year and mean as float64\n",
    "yr = np.int64(df.Year)\n",
    "ghd_mean = np.float64(df[ghd_name])\n",
    "\n",
    "# Calculate standard deviation over base period\n",
    "loc=np.where((yr>=np.min(base_period)) & (yr<=np.max(base_period)))[0]\n",
    "std_ghd = np.nanstd(ghd_mean[loc])\n",
    "\n",
    "#%%############################################################################\n",
    "# Load OWDA Data\n",
    "ncfile_owda = netCDF4.Dataset('/Users/bcook/Documents/GEODATA/OWDA/owda_hd_fix1_500.nc')\n",
    "\n",
    "# Load OWDA Variables\n",
    "lat_pdsi=ncfile_owda.variables['lat'][:];\n",
    "lon_pdsi=ncfile_owda.variables['lon'][:];\n",
    "yr_pdsi=ncfile_owda.variables['time'][:];\n",
    "pdsi=ncfile_owda.variables['pdsi'][:];\n",
    "\n",
    "# Swap PDSI axes so orientation is correct: time, lat, lon\n",
    "pdsi=np.swapaxes(pdsi,0,2)\n",
    "\n",
    "# close file\n",
    "ncfile_owda.close\n",
    "\n",
    "#%%############################################################################\n",
    "# Load Luterbacher Temp Data\n",
    "ncfile_luter = netCDF4.Dataset('/Users/bcook/Documents/GEODATA/LUTERTEMP/LuterbacherTemp.nc')\n",
    "\n",
    "# Load Variables\n",
    "lat_temp=ncfile_luter.variables['lat'][:];\n",
    "lon_temp=ncfile_luter.variables['lon'][:];\n",
    "\n",
    "# Luter is a seasonal temperature reconstruction, so create seasonal and year vectors\n",
    "# 1=DJF, 2=MAM, 3=JJA, 4=SON\n",
    "seas_luter = np.arange(1,5); seas_luter_all = np.transpose(np.tile(seas_luter,(1,503)))\n",
    "yr_luter  = np.arange(1500,2003); \n",
    "\n",
    "# Now, pull out each season individually\n",
    "tmp_locs = np.where(seas_luter_all==1); tmp_locs = tmp_locs[0]; tmp_DJF = ncfile_luter.variables['temp'][tmp_locs,0,:,:] \n",
    "tmp_locs = np.where(seas_luter_all==2); tmp_locs = tmp_locs[0]; tmp_MAM = ncfile_luter.variables['temp'][tmp_locs,0,:,:] \n",
    "tmp_locs = np.where(seas_luter_all==3); tmp_locs = tmp_locs[0]; tmp_JJA = ncfile_luter.variables['temp'][tmp_locs,0,:,:]\n",
    "tmp_locs = np.where(seas_luter_all==4); tmp_locs = tmp_locs[0]; tmp_SON = ncfile_luter.variables['temp'][tmp_locs,0,:,:]\n",
    "\n",
    "# close file\n",
    "ncfile_luter.close\n",
    "\n",
    "#%%############################################################################\n",
    "# Load Pauling Precip Data\n",
    "ncfile_pauling = netCDF4.Dataset('/Users/bcook/Documents/GEODATA/PAULINGPREC/PaulingPrecip.nc')\n",
    "\n",
    "# Load Variables\n",
    "lat_prec=ncfile_pauling.variables['lat'][:];\n",
    "lon_prec=ncfile_pauling.variables['lon'][:];\n",
    "\n",
    "# Luter is a seasonal temperature reconstruction, so create seasonal and year vectors\n",
    "# 1=DJF, 2=MAM, 3=JJA, 4=SON\n",
    "seas_paul = np.arange(1,5); seas_paul_all = np.transpose(np.tile(seas_luter,(1,501)))\n",
    "yr_paul  = np.arange(1500,2001); \n",
    "\n",
    "# Now, pull out each season individually\n",
    "pre_locs = np.where(seas_paul_all==1); pre_locs = pre_locs[0]; pre_DJF = ncfile_pauling.variables['precip'][pre_locs,0,:,:] \n",
    "pre_locs = np.where(seas_paul_all==2); pre_locs = pre_locs[0]; pre_MAM = ncfile_pauling.variables['precip'][pre_locs,0,:,:] \n",
    "pre_locs = np.where(seas_paul_all==3); pre_locs = pre_locs[0]; pre_JJA = ncfile_pauling.variables['precip'][pre_locs,0,:,:]\n",
    "pre_locs = np.where(seas_paul_all==4); pre_locs = pre_locs[0]; pre_SON = ncfile_pauling.variables['precip'][pre_locs,0,:,:]\n",
    "\n",
    "# close file\n",
    "ncfile_pauling.close"
   ]
  },
  {
   "cell_type": "markdown",
   "metadata": {},
   "source": [
    "### Convert the climate reconstructions to anomalies relative to the baseline period (1600-1900)"
   ]
  },
  {
   "cell_type": "code",
   "execution_count": 298,
   "metadata": {
    "collapsed": false
   },
   "outputs": [],
   "source": [
    "# Calculate Mean and recenter PDSI\n",
    "# Find PDSI years for this period and calculate mean\n",
    "i_yr_pdsi = np.where( (yr_pdsi>=np.min(base_period)) & (yr_pdsi<=np.max(base_period))); i_yr_pdsi=i_yr_pdsi[0];\n",
    "\n",
    "base_mean_pdsi = np.mean(pdsi[i_yr_pdsi,:,:],axis=0)\n",
    "pdsi_recenter=pdsi-base_mean_pdsi\n",
    "#pdsi_recenter=copy.deepcopy(pdsi)\n",
    "\n",
    "# Calculate Mean and Anomalize Temperature\n",
    "i_yr_temp = np.where( (yr_luter>=np.min(base_period)) & (yr_luter<=np.max(base_period))); i_yr_temp=i_yr_temp[0];\n",
    "tmp_DJF_mean = np.mean(tmp_DJF[i_yr_temp,:,:],axis=0)\n",
    "tmp_MAM_mean = np.mean(tmp_MAM[i_yr_temp,:,:],axis=0)\n",
    "tmp_JJA_mean = np.mean(tmp_JJA[i_yr_temp,:,:],axis=0)\n",
    "tmp_SON_mean = np.mean(tmp_SON[i_yr_temp,:,:],axis=0)\n",
    "\n",
    "tmp_DJF_anom = tmp_DJF-tmp_DJF_mean\n",
    "tmp_MAM_anom = tmp_MAM-tmp_MAM_mean\n",
    "tmp_JJA_anom = tmp_JJA-tmp_JJA_mean\n",
    "tmp_SON_anom = tmp_SON-tmp_SON_mean\n",
    "\n",
    "# Calculate Mean and Anomalize precipitation\n",
    "i_yr_prec = np.where( (yr_paul>=np.min(base_period)) & (yr_paul<=np.max(base_period))); i_yr_prec=i_yr_prec[0];\n",
    "pre_DJF_mean = np.mean(pre_DJF[i_yr_prec,:,:],axis=0)\n",
    "pre_MAM_mean = np.mean(pre_MAM[i_yr_prec,:,:],axis=0)\n",
    "pre_JJA_mean = np.mean(pre_JJA[i_yr_prec,:,:],axis=0)\n",
    "pre_SON_mean = np.mean(pre_SON[i_yr_prec,:,:],axis=0)\n",
    "\n",
    "# In mm\n",
    "pre_DJF_anom = pre_DJF-pre_DJF_mean\n",
    "pre_MAM_anom = pre_MAM-pre_MAM_mean\n",
    "pre_JJA_anom = pre_JJA-pre_JJA_mean\n",
    "pre_SON_anom = pre_SON-pre_SON_mean\n",
    "\n",
    "# In percent\n",
    "pre_JJA_anom_pct = (pre_JJA_anom/pre_JJA_mean)*100\n"
   ]
  },
  {
   "cell_type": "markdown",
   "metadata": {},
   "source": [
    "### PDSI\n",
    "* Create cosine-latitude weights for for spatial averaging \n",
    "* Regional average time series calculation (GHD-Core Region)"
   ]
  },
  {
   "cell_type": "code",
   "execution_count": 299,
   "metadata": {
    "collapsed": true
   },
   "outputs": [],
   "source": [
    "# Lat and lon indices for the specified region\n",
    "i_lon_reg=np.where((lon_pdsi>=lonmin) & (lon_pdsi<=lonmax))[0]\n",
    "i_lat_reg=np.where((lat_pdsi>=latmin) & (lat_pdsi<=latmax))[0]\n",
    "\n",
    "# Latitude and Longitude Indices for this region\n",
    "lon_reg = lon_pdsi[i_lon_reg]\n",
    "lat_reg = lat_pdsi[i_lat_reg]\n",
    "\n",
    "# Create Latitude Weights\n",
    "lat_wts = scipy.cos(scipy.deg2rad(lat_reg));\n",
    "lat_wts_grid,lon_junk = np.meshgrid(lat_wts,lon_reg)\n",
    "lat_wts_grid=np.swapaxes(lat_wts_grid,1,0)\n",
    "\n",
    "#------------------------------------------------------------------------------------------------------\n",
    "# PDSI regional average\n",
    "\n",
    "# Create dummy matrix\n",
    "pdsi_reg_mean_wt=np.zeros(np.size(yr_pdsi))\n",
    "\n",
    "# Loop Through Each Year\n",
    "for i in enumerate(yr_pdsi):\n",
    "    # Pull PDSI From the GHD-Core Region\n",
    "    region_pdsi = pdsi_recenter[i[0],i_lat_reg,:][:,i_lon_reg]\n",
    "\n",
    "    # Weighted Means\n",
    "    pdsi_reg_mean_wt[i[0]] = np.ma.average(np.ma.masked_invalid(region_pdsi),weights=lat_wts_grid)"
   ]
  },
  {
   "cell_type": "markdown",
   "metadata": {},
   "source": [
    "### Precipitation\n",
    "* Create cosine-latitude weights for for spatial averaging \n",
    "* Regional average time series calculation (GHD-Core Region)"
   ]
  },
  {
   "cell_type": "code",
   "execution_count": 300,
   "metadata": {
    "collapsed": true
   },
   "outputs": [],
   "source": [
    "# Lat and lon indices for the specified region\n",
    "i_lon_reg=np.where((lon_prec>=lonmin) & (lon_prec<=lonmax))[0]\n",
    "i_lat_reg=np.where((lat_prec>=latmin) & (lat_prec<=latmax))[0]\n",
    "\n",
    "# Latitude and Longitude Indices for this region\n",
    "lon_reg = lon_prec[i_lon_reg]\n",
    "lat_reg = lat_prec[i_lat_reg]\n",
    "\n",
    "# Create Latitude Weights\n",
    "lat_wts = scipy.cos(scipy.deg2rad(lat_reg));\n",
    "lat_wts_grid,lon_junk = np.meshgrid(lat_wts,lon_reg)\n",
    "lat_wts_grid=np.swapaxes(lat_wts_grid,1,0)\n",
    "\n",
    "#------------------------------------------------------------------------------------------------------\n",
    "# Precipitation regional average\n",
    "\n",
    "# Create dummy matrix\n",
    "preJJA_reg_mean_wt_pct=np.zeros(np.size(yr_paul))\n",
    "\n",
    "# Loop Through Each Year\n",
    "for i in enumerate(yr_paul):\n",
    "    # Pull Precipitation From the GHD-Core Region\n",
    "    region_prec = pre_JJA_anom_pct[i[0],i_lat_reg,:][:,i_lon_reg]\n",
    "\n",
    "    # Unweighted and Weighted Means (mm)\n",
    "    preJJA_reg_mean_wt_pct[i[0]] = np.ma.average(np.ma.masked_invalid(region_prec),weights=lat_wts_grid)"
   ]
  },
  {
   "cell_type": "markdown",
   "metadata": {},
   "source": [
    "### Find all early harvest date years"
   ]
  },
  {
   "cell_type": "code",
   "execution_count": 301,
   "metadata": {
    "collapsed": false
   },
   "outputs": [
    {
     "name": "stdout",
     "output_type": "stream",
     "text": [
      "Early Years and Anomalies, GHD-Core (1600-2007)\n"
     ]
    },
    {
     "data": {
      "text/plain": [
       "array([1602, 1603, 1604, 1605, 1607, 1610, 1611, 1615, 1616, 1619, 1623,\n",
       "       1624, 1630, 1631, 1635, 1636, 1637, 1638, 1639, 1644, 1645, 1646,\n",
       "       1647, 1651, 1653, 1659, 1660, 1661, 1665, 1666, 1668, 1669, 1670,\n",
       "       1676, 1681, 1684, 1686, 1706, 1718, 1719, 1811, 1822, 1825, 1834,\n",
       "       1846, 1862, 1865, 1868, 1870, 1874, 1893, 1901, 1904, 1905, 1906,\n",
       "       1911, 1915, 1917, 1921, 1922, 1927, 1934, 1937, 1943, 1945, 1947,\n",
       "       1950, 1952, 1959, 1960, 1961, 1976, 1982, 1989, 1990, 1992, 1993,\n",
       "       1994, 1995, 1997, 1998, 1999, 2000, 2001, 2002, 2003, 2004, 2005,\n",
       "       2006, 2007])"
      ]
     },
     "metadata": {},
     "output_type": "display_data"
    },
    {
     "data": {
      "text/plain": [
       "array([ -9.0292489 , -16.6292489 , -12.73438851,  -7.90884414,\n",
       "        -8.4542489 , -11.10884414, -14.6792489 ,  -8.96884414,\n",
       "       -14.76884414, -11.23438851,  -8.06884414, -13.68438851,\n",
       "        -9.03438851, -12.18438851,  -8.43438851, -16.80938851,\n",
       "       -20.15938851, -15.63438851,  -9.63438851,  -9.58438851,\n",
       "       -15.38438851,  -9.85938851,  -7.75938851, -12.48438851,\n",
       "        -9.80884414, -17.45938851, -16.01297464, -11.20938851,\n",
       "        -7.88639764, -10.10884414,  -7.98438851,  -9.55938851,\n",
       "        -7.85938851,  -8.33438851,  -9.48438851, -11.68438851,\n",
       "       -11.20938851,  -9.22946483, -15.06946483,  -7.86946483,\n",
       "       -10.12362762, -28.2314244 ,  -8.34571012, -13.27428155,\n",
       "       -12.40170012,  -7.87428155, -18.01713869, -14.11713869,\n",
       "       -12.17428155,  -8.65999583, -23.90285298,  -9.61713869,\n",
       "       -10.40285298,  -8.25999583,  -8.01713869, -13.96839949,\n",
       "       -10.05170012, -12.01777348, -11.76248941,  -7.94820369,\n",
       "        -8.21963226, -14.66408083, -11.5355094 , -12.43089949,\n",
       "       -17.87602799, -13.48856726,  -9.94571012, -11.51839949,\n",
       "       -10.34339949,  -8.28089949,  -8.58089949, -16.66839949,\n",
       "       -10.03089949, -17.28089949, -13.31839949, -10.84339949,\n",
       "       -12.64339949, -15.36839949,  -9.59339949, -12.51839949,\n",
       "       -12.83089949, -12.30589949, -14.54339949, -10.86839949,\n",
       "       -10.09339949, -31.39339949,  -8.49339949, -16.25589949,\n",
       "       -14.40534655, -20.90879529])"
      ]
     },
     "metadata": {},
     "output_type": "display_data"
    }
   ],
   "source": [
    "# Find All Early Years\n",
    "early_yrs = yr[np.where(ghd_mean<=harvest_thresh)]\n",
    "\n",
    "# Find These Anomalies\n",
    "early_anom = ghd_mean[np.where(ghd_mean<=harvest_thresh)]\n",
    "\n",
    "# Get Rid of Any Data before 1600\n",
    "remove_locs = np.where(early_yrs<1600)[0]\n",
    "early_yrs   = np.delete(early_yrs,remove_locs)\n",
    "early_anom  = np.delete(early_anom,remove_locs)\n",
    "\n",
    "print(\"Early Years and Anomalies, GHD-Core (1600-2007)\")\n",
    "display(early_yrs)\n",
    "display(early_anom)"
   ]
  },
  {
   "cell_type": "markdown",
   "metadata": {},
   "source": [
    "### Early Harvest Dates: 1600-1980"
   ]
  },
  {
   "cell_type": "code",
   "execution_count": 302,
   "metadata": {
    "collapsed": false
   },
   "outputs": [
    {
     "name": "stdout",
     "output_type": "stream",
     "text": [
      "Early Yrs: 1600-1980 (n=72)\n",
      "\n",
      "[1602 1603 1604 1605 1607 1610 1611 1615 1616 1619 1623 1624 1630 1631 1635\n",
      " 1636 1637 1638 1639 1644 1645 1646 1647 1651 1653 1659 1660 1661 1665 1666\n",
      " 1668 1669 1670 1676 1681 1684 1686 1706 1718 1719 1811 1822 1825 1834 1846\n",
      " 1862 1865 1868 1870 1874 1893 1901 1904 1905 1906 1911 1915 1917 1921 1922\n",
      " 1927 1934 1937 1943 1945 1947 1950 1952 1959 1960 1961 1976]\n",
      "\n",
      "Early Dates: 1600-1980 (n=72)\n",
      "\n",
      "[ -9.0292489  -16.6292489  -12.73438851  -7.90884414  -8.4542489\n",
      " -11.10884414 -14.6792489   -8.96884414 -14.76884414 -11.23438851\n",
      "  -8.06884414 -13.68438851  -9.03438851 -12.18438851  -8.43438851\n",
      " -16.80938851 -20.15938851 -15.63438851  -9.63438851  -9.58438851\n",
      " -15.38438851  -9.85938851  -7.75938851 -12.48438851  -9.80884414\n",
      " -17.45938851 -16.01297464 -11.20938851  -7.88639764 -10.10884414\n",
      "  -7.98438851  -9.55938851  -7.85938851  -8.33438851  -9.48438851\n",
      " -11.68438851 -11.20938851  -9.22946483 -15.06946483  -7.86946483\n",
      " -10.12362762 -28.2314244   -8.34571012 -13.27428155 -12.40170012\n",
      "  -7.87428155 -18.01713869 -14.11713869 -12.17428155  -8.65999583\n",
      " -23.90285298  -9.61713869 -10.40285298  -8.25999583  -8.01713869\n",
      " -13.96839949 -10.05170012 -12.01777348 -11.76248941  -7.94820369\n",
      "  -8.21963226 -14.66408083 -11.5355094  -12.43089949 -17.87602799\n",
      " -13.48856726  -9.94571012 -11.51839949 -10.34339949  -8.28089949\n",
      "  -8.58089949 -16.66839949]\n",
      "\n",
      "Mean Anomaly: -11.7739242496 days early\n",
      "\n"
     ]
    }
   ],
   "source": [
    "# Index locations\n",
    "i_early = np.where((early_yrs>=np.min(yrs_before)) & (early_yrs<=np.max(yrs_before)))[0]\n",
    "\n",
    "# Pull out yrs/anomalies based on this index\n",
    "subset_yrs_before  = early_yrs[i_early]\n",
    "subset_anom_before = early_anom[i_early]\n",
    "\n",
    "print(\"Early Yrs: \"+np.str(np.min(yrs_before))+'-'+np.str(np.max(yrs_before))+' (n='+ np.str(np.size(subset_yrs_before)) +')')\n",
    "print(\"\")\n",
    "print(subset_yrs_before)\n",
    "print(\"\")\n",
    "print(\"Early Dates: \"+np.str(np.min(yrs_before))+'-'+np.str(np.max(yrs_before))+' (n='+ np.str(np.size(subset_anom_before)) +')')\n",
    "print(\"\")\n",
    "print(subset_anom_before)\n",
    "print(\"\")\n",
    "print(\"Mean Anomaly: \"+np.str(np.mean(subset_anom_before))+\" days early\")\n",
    "print(\"\")"
   ]
  },
  {
   "cell_type": "markdown",
   "metadata": {},
   "source": [
    "### Early Harvest Dates: 1981-2007"
   ]
  },
  {
   "cell_type": "code",
   "execution_count": 303,
   "metadata": {
    "collapsed": false
   },
   "outputs": [
    {
     "name": "stdout",
     "output_type": "stream",
     "text": [
      "Early Yrs: 1981-2007    (n=18)\n",
      "\n",
      "[1982 1989 1990 1992 1993 1994 1995 1997 1998 1999 2000 2001 2002 2003 2004\n",
      " 2005 2006 2007]\n",
      "\n",
      "Early Dates: 1981-2007    (n=18)\n",
      "\n",
      "[-10.03089949 -17.28089949 -13.31839949 -10.84339949 -12.64339949\n",
      " -15.36839949  -9.59339949 -12.51839949 -12.83089949 -12.30589949\n",
      " -14.54339949 -10.86839949 -10.09339949 -31.39339949  -8.49339949\n",
      " -16.25589949 -14.40534655 -20.90879529]\n",
      "\n",
      "Mean Anomaly: -14.0942240977 days early\n",
      "\n"
     ]
    }
   ],
   "source": [
    "# Year Lable for this interval\n",
    "\n",
    "# Index locations\n",
    "i_early = np.where((early_yrs>=np.min(yrs_after)) & (early_yrs<=np.max(yrs_after)))[0]\n",
    "\n",
    "# Pull out yrs/anomalies based on this index\n",
    "subset_yrs_after  = early_yrs[i_early]\n",
    "subset_anom_after = early_anom[i_early]\n",
    "\n",
    "print(\"Early Yrs: \"+np.str(np.min(yrs_after))+'-'+np.str(np.max(yrs_after))+'\\\n",
    "    (n='+ np.str(np.size(subset_yrs_after)) +')')\n",
    "print(\"\")\n",
    "print(subset_yrs_after)\n",
    "print(\"\")\n",
    "print(\"Early Dates: \"+np.str(np.min(yrs_after))+'-'+np.str(np.max(yrs_after))+'\\\n",
    "    (n='+ np.str(np.size(subset_anom_after)) +')')\n",
    "print(\"\")\n",
    "print(subset_anom_after)\n",
    "print(\"\")\n",
    "print(\"Mean Anomaly: \"+np.str(np.mean(subset_anom_after))+\" days early\")\n",
    "print(\"\")"
   ]
  },
  {
   "cell_type": "markdown",
   "metadata": {},
   "source": [
    "### PDSI and Precipitation anomalies for composite comparisons: 1981-2007 vs 1600-1980"
   ]
  },
  {
   "cell_type": "code",
   "execution_count": 304,
   "metadata": {
    "collapsed": false
   },
   "outputs": [
    {
     "data": {
      "text/plain": [
       "'----------------------------------------------------------------------------'"
      ]
     },
     "metadata": {},
     "output_type": "display_data"
    },
    {
     "data": {
      "text/plain": [
       "'PDSI Anomalies'"
      ]
     },
     "metadata": {},
     "output_type": "display_data"
    },
    {
     "data": {
      "text/plain": [
       "'----------------------------------------------------------------------------'"
      ]
     },
     "metadata": {},
     "output_type": "display_data"
    },
    {
     "data": {
      "text/plain": [
       "array([-1.71456288, -2.63627777,  0.39871293,  1.66678376,  2.19991057,\n",
       "        0.15577673,  1.60275889, -1.66523737, -1.4348618 , -0.08021638,\n",
       "       -2.28770339, -2.38648262, -0.59675533, -0.12570456, -1.79478855,\n",
       "       -3.35883845,  0.09542955,  1.8740965 ,  1.92122985, -1.71939353,\n",
       "       -1.21214528, -0.23338281, -0.22130693, -0.209721  , -3.5090866 ,\n",
       "       -1.70540202,  0.99506323,  1.10613611, -1.93650238, -3.1892386 ,\n",
       "       -0.49988638, -2.18338199, -2.64429886, -2.67115667, -4.30486273,\n",
       "       -3.83748614, -0.11008701, -1.29142192, -2.75194533, -4.39100068,\n",
       "       -2.86028041, -3.07598157, -0.02142846, -2.34305103, -0.92774132,\n",
       "       -0.70350076, -4.14059275, -1.10345858, -3.43267997, -1.64444901,\n",
       "       -4.19956128,  1.0813962 ,  0.30167382, -0.46514907, -1.90194537,\n",
       "       -0.38971033,  1.31002021,  1.98035787, -5.11948453,  0.01719091,\n",
       "        2.81169211, -3.0893924 ,  0.78026511, -1.45722119, -0.90514989,\n",
       "       -2.47602345,  0.30565054, -0.77703911,  0.26298173,  2.06509435,\n",
       "        0.84092696, -3.01978152,  1.76798701, -0.80678317, -1.31019884,\n",
       "        0.99974814,  1.2218033 ,  2.90114941,  0.92610694,  0.8920879 ,\n",
       "       -0.17064987,  1.28474949,  2.32295158,  3.56221292,  1.80151229,\n",
       "       -0.7881369 , -0.26771012, -1.06313628,  0.13247337,  2.02093576])"
      ]
     },
     "metadata": {},
     "output_type": "display_data"
    },
    {
     "data": {
      "text/plain": [
       "''"
      ]
     },
     "metadata": {},
     "output_type": "display_data"
    },
    {
     "data": {
      "text/plain": [
       "'----------------------------------------------------------------------------'"
      ]
     },
     "metadata": {},
     "output_type": "display_data"
    },
    {
     "data": {
      "text/plain": [
       "'Precipitation Anomalies'"
      ]
     },
     "metadata": {},
     "output_type": "display_data"
    },
    {
     "data": {
      "text/plain": [
       "'----------------------------------------------------------------------------'"
      ]
     },
     "metadata": {},
     "output_type": "display_data"
    },
    {
     "data": {
      "text/plain": [
       "array([  8.75018232, -18.66310444, -12.09838482,   1.0996222 ,\n",
       "        -9.70986657,   8.20686806,   7.20308776, -37.94489036,\n",
       "       -47.32403561,  -2.45680082, -18.04909502,   9.33745675,\n",
       "       -37.01302478, -30.41884367, -11.24393756,   4.31060144,\n",
       "        -4.45570069,   2.27161403,  27.0861328 ,  -3.71630677,\n",
       "       -15.57964518,  -1.99616772,  22.64709035,   3.11829788,\n",
       "       -20.99984523,  20.80871861, -12.2364533 ,   5.05641391,\n",
       "        23.33517252, -63.00952827,  28.72066726, -87.1353121 ,\n",
       "         8.98549205, -42.05688265, -58.96682153, -43.98945849,\n",
       "         1.1782421 , -70.2851281 , -45.65198353, -59.97379865,\n",
       "         1.94167511,  -6.35164421, -23.19032123,  17.52323452,\n",
       "        -8.23355486,   3.17972398,   7.4191068 , -12.46357172,\n",
       "       -23.59143171, -10.54353389, -16.24592519, -13.06738777,\n",
       "       -17.52746926,  12.54083566, -47.70760192, -24.11569192,\n",
       "        -2.33859766,  22.91786265, -20.77635143,  15.19091802,\n",
       "        43.14141993,  -3.39920687, -22.19623465, -10.86290812,\n",
       "       -16.99852225, -19.19805932,   4.01655835, -17.47451849,\n",
       "       -15.32390404,  34.65834743, -19.22048847, -30.99293056,\n",
       "        14.2094504 , -20.42813672, -19.52306819,  41.32264945,\n",
       "         0.21160925,  -8.44494113, -29.72332562,  34.17824056,\n",
       "       -24.09300605,  -0.37378783,  -1.4749135 ])"
      ]
     },
     "metadata": {},
     "output_type": "display_data"
    }
   ],
   "source": [
    "# Setup dummy variables first\n",
    "pdsi_early = np.zeros(np.size(early_yrs))\n",
    "prec_early = np.zeros(np.size(early_yrs)-7)\n",
    "\n",
    "# Loop Through Each Year in \"early_yrs\" and find the matching year in yr_pdsi\n",
    "for i in enumerate(early_yrs):\n",
    "    # Locate this year for PDSI\n",
    "    loc_yr           = np.where(yr_pdsi==i[1])[0]\n",
    "    pdsi_early[i[0]] = pdsi_reg_mean_wt[loc_yr]\n",
    "    \n",
    "    # Locate this year for Precipitation\n",
    "    loc_yr           = np.where(yr_paul==i[1])[0]\n",
    "    if loc_yr.size == 1:\n",
    "        prec_early[i[0]] = preJJA_reg_mean_wt_pct[loc_yr]\n",
    "    \n",
    "display(\"----------------------------------------------------------------------------\")\n",
    "display(\"PDSI Anomalies\")\n",
    "display(\"----------------------------------------------------------------------------\")\n",
    "display(pdsi_early)\n",
    "display('')\n",
    "display(\"----------------------------------------------------------------------------\")\n",
    "display(\"Precipitation Anomalies\")\n",
    "display(\"----------------------------------------------------------------------------\")\n",
    "display(prec_early)"
   ]
  },
  {
   "cell_type": "markdown",
   "metadata": {},
   "source": [
    "### PDSI Comparison: 1981-2007 vs 1600-1980"
   ]
  },
  {
   "cell_type": "code",
   "execution_count": 305,
   "metadata": {
    "collapsed": false
   },
   "outputs": [
    {
     "name": "stdout",
     "output_type": "stream",
     "text": [
      "PDSI Early Years Before:\n",
      "[ 1602.  1603.  1604.  1605.  1607.  1610.  1611.  1615.  1616.  1619.\n",
      "  1623.  1624.  1630.  1631.  1635.  1636.  1637.  1638.  1639.  1644.\n",
      "  1645.  1646.  1647.  1651.  1653.  1659.  1660.  1661.  1665.  1666.\n",
      "  1668.  1669.  1670.  1676.  1681.  1684.  1686.  1706.  1718.  1719.\n",
      "  1811.  1822.  1825.  1834.  1846.  1862.  1865.  1868.  1870.  1874.\n",
      "  1893.  1901.  1904.  1905.  1906.  1911.  1915.  1917.  1921.  1922.\n",
      "  1927.  1934.  1937.  1943.  1945.  1947.  1950.  1952.  1959.  1960.\n",
      "  1961.  1976.]\n",
      "\n",
      "PDSI Values Before:\n",
      "[-1.71456288 -2.63627777  0.39871293  1.66678376  2.19991057  0.15577673\n",
      "  1.60275889 -1.66523737 -1.4348618  -0.08021638 -2.28770339 -2.38648262\n",
      " -0.59675533 -0.12570456 -1.79478855 -3.35883845  0.09542955  1.8740965\n",
      "  1.92122985 -1.71939353 -1.21214528 -0.23338281 -0.22130693 -0.209721\n",
      " -3.5090866  -1.70540202  0.99506323  1.10613611 -1.93650238 -3.1892386\n",
      " -0.49988638 -2.18338199 -2.64429886 -2.67115667 -4.30486273 -3.83748614\n",
      " -0.11008701 -1.29142192 -2.75194533 -4.39100068 -2.86028041 -3.07598157\n",
      " -0.02142846 -2.34305103 -0.92774132 -0.70350076 -4.14059275 -1.10345858\n",
      " -3.43267997 -1.64444901 -4.19956128  1.0813962   0.30167382 -0.46514907\n",
      " -1.90194537 -0.38971033  1.31002021  1.98035787 -5.11948453  0.01719091\n",
      "  2.81169211 -3.0893924   0.78026511 -1.45722119 -0.90514989 -2.47602345\n",
      "  0.30565054 -0.77703911  0.26298173  2.06509435  0.84092696 -3.01978152]\n",
      "\n",
      "Mean PDSI: -1.06921680575\n",
      "\n",
      "------------------------------------------------------------------------------------\n",
      "PDSI Early Years After:\n",
      "[ 1982.  1989.  1990.  1992.  1993.  1994.  1995.  1997.  1998.  1999.\n",
      "  2000.  2001.  2002.  2003.  2004.  2005.  2006.  2007.]\n",
      "\n",
      "PDSI Values After:\n",
      "[ 1.76798701 -0.80678317 -1.31019884  0.99974814  1.2218033   2.90114941\n",
      "  0.92610694  0.8920879  -0.17064987  1.28474949  2.32295158  3.56221292\n",
      "  1.80151229 -0.7881369  -0.26771012 -1.06313628  0.13247337  2.02093576]\n",
      "\n",
      "Mean PDSI: 0.857061273663\n",
      "\n"
     ]
    },
    {
     "data": {
      "text/plain": [
       "[<matplotlib.lines.Line2D at 0x1109d3eb8>]"
      ]
     },
     "execution_count": 305,
     "metadata": {},
     "output_type": "execute_result"
    },
    {
     "data": {
      "image/png": "[encoded data removed]",
      "text/plain": [
       "<matplotlib.figure.Figure at 0x1109d3978>"
      ]
     },
     "metadata": {},
     "output_type": "display_data"
    }
   ],
   "source": [
    "# Split PDSI Series\n",
    "pdsi_locs=np.where(np.int64(np.in1d(yr_pdsi,subset_yrs_before))==1)[0];  pdsi_before = pdsi_reg_mean_wt[pdsi_locs]\n",
    "print(\"PDSI Early Years Before:\")\n",
    "print(yr_pdsi[pdsi_locs])\n",
    "print(\"\")\n",
    "print(\"PDSI Values Before:\")\n",
    "print(pdsi_before)\n",
    "print(\"\")\n",
    "print(\"Mean PDSI: \"+np.str(np.mean(pdsi_before)))\n",
    "print(\"\")\n",
    "print(\"------------------------------------------------------------------------------------\")\n",
    "pdsi_locs=np.where(np.int64(np.in1d(yr_pdsi,subset_yrs_after))==1)[0];   pdsi_after  = pdsi_reg_mean_wt[pdsi_locs]\n",
    "print(\"PDSI Early Years After:\")\n",
    "print(yr_pdsi[pdsi_locs])\n",
    "print(\"\")\n",
    "print(\"PDSI Values After:\")\n",
    "print(pdsi_after)\n",
    "print(\"\")\n",
    "print(\"Mean PDSI: \"+np.str(np.mean(pdsi_after)))\n",
    "print(\"\")\n",
    "\n",
    "#----------------------------------------------------------------------------------------------------------------\n",
    "# Mean/Median Statistical Testing (Student's t-test, Wilcoxon Rank Sum)\n",
    "\n",
    "# Labels\n",
    "group_before = (np.str(yrs_before[0])+'-'+np.str(yrs_before[-1]));\n",
    "group_after  = (np.str(yrs_after[0])+'-'+np.str(yrs_after[-1]));\n",
    "\n",
    "label_1 = (np.tile(group_before,np.size(pdsi_before)))\n",
    "label_2 = (np.tile(group_after,np.size(pdsi_after)))\n",
    "\n",
    "# Initialize Matrix\n",
    "mean_median_pdsi = np.zeros([3,3])\n",
    "\n",
    "# Calculate the mean and median PDSI\n",
    "mean_median_pdsi[0,0] = np.int64(np.size(pdsi_before))\n",
    "mean_median_pdsi[0,1] = np.int64(np.size(pdsi_after))\n",
    "\n",
    "mean_median_pdsi[1,0] = np.mean(pdsi_before)\n",
    "mean_median_pdsi[1,1] = np.mean(pdsi_after)\n",
    "mean_median_pdsi[1,2] = stats.ttest_ind(pdsi_before, pdsi_after)[1]\n",
    "\n",
    "mean_median_pdsi[2,0] = np.median(pdsi_before)\n",
    "mean_median_pdsi[2,1] = np.median(pdsi_after)\n",
    "mean_median_pdsi[2,2] = stats.ranksums(pdsi_before, pdsi_after)[1]\n",
    "\n",
    "# Create A DataFrame for Statistical Results\n",
    "col_core_comp_txt=[label_1[0],label_2[0],\"Diff, Pval\"]\n",
    "row_core_comp_txt=[\"n\",\"Mean PDSI\",\"Median PDSI\"]\n",
    "df_pdsi_stat_results  = pd.DataFrame(mean_median_pdsi, index=row_core_comp_txt, columns=col_core_comp_txt)\n",
    "\n",
    "df_pdsi_stat_results\n",
    "\n",
    "#----------------------------------------------------------------------------------------------------------------\n",
    "# Create Dataframe (necessary for boxplot with seaborn)\n",
    "col_txt = row_core_comp_txt=[\"PDSI\",\"Year\",\"EarlyLate\"]\n",
    "\n",
    "# Find all Early Years\n",
    "df_pdsi_early      = pd.DataFrame(columns = col_txt)\n",
    "df_pdsi_early.PDSI = pdsi_early\n",
    "df_pdsi_early.Year = early_yrs\n",
    "\n",
    "h=np.where(df_pdsi_early.Year<=1980)[0]\n",
    "df_pdsi_early.loc[h,'EarlyLate'] = '1600-1980'\n",
    "\n",
    "h=np.where(df_pdsi_early.Year>1980)[0]\n",
    "df_pdsi_early.loc[h,'EarlyLate']  = '1981-2007'\n",
    "\n",
    "# PDSI Boxplot\n",
    "sns.plt.close(); sns.set(); \n",
    "sns.set_context(\"notebook\", font_scale=2.7, rc={\"lines.linewidth\": 1.5})\n",
    "fig = sns.plt.figure(figsize=(10,10))\n",
    "sns.boxplot(x=\"EarlyLate\", y=\"PDSI\", data=df_pdsi_early)\n",
    "sns.plt.plot([-10,20],[0,0],'--', color='k',linewidth=1)\n",
    "#sns.plt.title('Mean PDSI, Early Harvests')  \n",
    "#sns.plt.tight_layout\n",
    "#sns.plt.savefig('../figures/step05/ghdcore.boxplot.pdsi.'+label_1[0]+'.'+label_2[0]+'.svg', format='svg', dpi=1200) # vector graphics for adobe illustrator \n"
   ]
  },
  {
   "cell_type": "code",
   "execution_count": 306,
   "metadata": {
    "collapsed": false
   },
   "outputs": [
    {
     "data": {
      "text/html": [
       "<div>\n",
       "<table border=\"1\" class=\"dataframe\">\n",
       "  <thead>\n",
       "    <tr style=\"text-align: right;\">\n",
       "      <th></th>\n",
       "      <th>1600-1980</th>\n",
       "      <th>1981-2007</th>\n",
       "      <th>Diff, Pval</th>\n",
       "    </tr>\n",
       "  </thead>\n",
       "  <tbody>\n",
       "    <tr>\n",
       "      <th>n</th>\n",
       "      <td>72.000000</td>\n",
       "      <td>18.000000</td>\n",
       "      <td>0.000000</td>\n",
       "    </tr>\n",
       "    <tr>\n",
       "      <th>Mean PDSI</th>\n",
       "      <td>-1.069217</td>\n",
       "      <td>0.857061</td>\n",
       "      <td>0.000094</td>\n",
       "    </tr>\n",
       "    <tr>\n",
       "      <th>Median PDSI</th>\n",
       "      <td>-1.015600</td>\n",
       "      <td>0.962928</td>\n",
       "      <td>0.000241</td>\n",
       "    </tr>\n",
       "  </tbody>\n",
       "</table>\n",
       "</div>"
      ],
      "text/plain": [
       "             1600-1980  1981-2007  Diff, Pval\n",
       "n            72.000000  18.000000    0.000000\n",
       "Mean PDSI    -1.069217   0.857061    0.000094\n",
       "Median PDSI  -1.015600   0.962928    0.000241"
      ]
     },
     "execution_count": 306,
     "metadata": {},
     "output_type": "execute_result"
    }
   ],
   "source": [
    "df_pdsi_stat_results"
   ]
  },
  {
   "cell_type": "markdown",
   "metadata": {},
   "source": [
    "### Resampling procedure for PDSI\n",
    "* Because of potential sampling biases, I will run a resampling procedure to determine to what extent these difference could arise from chance due to the years including in the before and after PDSI composite. The procedure follows.\n",
    "* I will run the resampling 10,000 times.\n",
    "* For each iteration, the PDSI after pool (n=18) will remain the same. I will randomly sample (with replacement) from the pools of PDSI before, sampling 18 times (the same n as after). For each iteration, I will then repeat the t-test and ranksum tests.\n",
    "* I then count the fraction of iterations where the t-test and ranksum test are still significant.\n",
    "* Because I am a priori looking for a situation where PDSI is DRIER pre-1980, I am using a one-sided test."
   ]
  },
  {
   "cell_type": "code",
   "execution_count": 307,
   "metadata": {
    "collapsed": false
   },
   "outputs": [
    {
     "name": "stdout",
     "output_type": "stream",
     "text": [
      "Resampling Results:\n",
      "Fraction t-test pass=0.9901\n",
      "Fraction ranksum pass=0.9664\n",
      "\n",
      "\n",
      "The results hold up well to the resampling. We can therefore conclude that sampling biases are unlikely to be biasing the results.\n",
      "\n"
     ]
    },
    {
     "data": {
      "text/plain": [
       "(-2.75, 1.5)"
      ]
     },
     "execution_count": 307,
     "metadata": {},
     "output_type": "execute_result"
    },
    {
     "data": {
      "image/png": "[encoded data removed]",
      "text/plain": [
       "<matplotlib.figure.Figure at 0x1547b23c8>"
      ]
     },
     "metadata": {},
     "output_type": "display_data"
    }
   ],
   "source": [
    "# Number of iterations\n",
    "num_mc = 10000;\n",
    "\n",
    "# I will draw randomly PDSI values from all early years and calculate average. The number I\n",
    "# draw for each iteration will equal the # early years after 1950.\n",
    "pdsi_resamp_mean_before    = np.zeros(num_mc)\n",
    "pdsi_resamp_mean_after     = np.zeros(num_mc)\n",
    "pval_mc_pdsi_ttest2        = np.zeros(num_mc)\n",
    "pval_mc_pdsi_ranksum       = np.zeros(num_mc)\n",
    "pval_mc_pdsibefore_onesamp = np.zeros(num_mc)\n",
    "pval_mc_pdsiafter_onesamp  = np.zeros(num_mc)\n",
    "\n",
    "# In each iteration, randomly resample (with replacement)\n",
    "for i in np.arange(0,num_mc):\n",
    "    \n",
    "    #print(i)\n",
    "    # First, Generate resampled PDSI for before and after periods\n",
    "    pdsi_resamp_before = bootstrap_resample(pdsi_before,np.size(pdsi_after))\n",
    "    pdsi_resamp_after  = copy.deepcopy(pdsi_after)\n",
    "    #pdsi_resamp_after  = bootstrap_resample(pdsi_after,np.size(pdsi_after))\n",
    "\n",
    "    # Now, calculate and store the resampled means\n",
    "    pdsi_resamp_mean_before[i] = np.mean(pdsi_resamp_before)\n",
    "    pdsi_resamp_mean_after[i] = np.mean(pdsi_resamp_after)\n",
    "\n",
    "    # Ttest and Ranksum tests\n",
    "    pval_mc_pdsi_ttest2[i] = stats.ttest_ind(pdsi_resamp_before,pdsi_resamp_after)[1]\n",
    "    pval_mc_pdsi_ranksum[i] = stats.ranksums(pdsi_resamp_before,pdsi_resamp_after)[1]\n",
    "    pval_mc_pdsibefore_onesamp[i] = stats.ttest_1samp(pdsi_resamp_before,0)[1]\n",
    "    pval_mc_pdsiafter_onesamp[i]  = stats.ttest_1samp(pdsi_resamp_after,0)[1]\n",
    "\n",
    "# Percent Simulations Where ttest and ranksum were significantly different\n",
    "mc_ttest_sig   = np.size(np.where(pval_mc_pdsi_ttest2<=0.1))/np.size(pval_mc_pdsi_ttest2)\n",
    "mc_ranksum_sig = np.size(np.where(pval_mc_pdsi_ranksum<=0.1))/np.size(pval_mc_pdsi_ranksum)\n",
    " \n",
    "print(\"Resampling Results:\")\n",
    "print('Fraction t-test pass='+np.str(mc_ttest_sig))\n",
    "print('Fraction ranksum pass='+np.str(mc_ranksum_sig))\n",
    "print(\"\")\n",
    "print(\"\")\n",
    "print(\"The results hold up well to the resampling. We can therefore conclude that sampling biases are unlikely to be biasing the results.\")\n",
    "print(\"\")\n",
    "# Kernal Density Function from Resampling Results\n",
    "sns.set(style=\"darkgrid\")\n",
    "sns.set_context(\"notebook\", font_scale=2.75, rc={\"lines.linewidth\": 1.5})\n",
    "#sns.set_context(\"notebook\", font_scale=2, rc={'axes.labelsize': 64, 'ytick.minor.size': 32, 'axes.titlesize': 30})\n",
    "bins=np.arange(-2.5,1,.125)  \n",
    "sns.plt.figure(figsize=[10,7])     \n",
    "sns.kdeplot(pdsi_resamp_mean_before,shade=True)\n",
    "sns.kdeplot(pdsi_resamp_mean_after,shade=True,color='g')\n",
    "sns.plt.plot([np.mean(pdsi_before),np.mean(pdsi_before)],[0,2],'--', color='b')\n",
    "sns.plt.plot([np.mean(pdsi_after),np.mean(pdsi_after)],[0,2],'--', color='g')\n",
    "sns.plt.xlabel('PDSI')\n",
    "sns.plt.ylabel('density')\n",
    "sns.plt.title('Mean PDSI, Early Harvests')  \n",
    "sns.plt.legend(['1600-1980','1981-2007'])\n",
    "sns.plt.tight_layout\n",
    "sns.plt.ylim(0,1.1)\n",
    "sns.plt.xlim(-2.75,1.5)\n",
    "#sns.plt.savefig('../figures/step05/ghdcore.montecarlo.pdsi.'+label_1[0]+'.'+label_2[0]+'.svg', format='svg', dpi=1200) # vector graphics for adobe illustrator \n",
    "\n"
   ]
  },
  {
   "cell_type": "markdown",
   "metadata": {},
   "source": [
    "### Precipitation Comparison: 1981-2007 vs 1600-1980"
   ]
  },
  {
   "cell_type": "code",
   "execution_count": 308,
   "metadata": {
    "collapsed": false
   },
   "outputs": [
    {
     "name": "stdout",
     "output_type": "stream",
     "text": [
      "Prec Early Years Before:\n",
      "[1602 1603 1604 1605 1607 1610 1611 1615 1616 1619 1623 1624 1630 1631 1635\n",
      " 1636 1637 1638 1639 1644 1645 1646 1647 1651 1653 1659 1660 1661 1665 1666\n",
      " 1668 1669 1670 1676 1681 1684 1686 1706 1718 1719 1811 1822 1825 1834 1846\n",
      " 1862 1865 1868 1870 1874 1893 1901 1904 1905 1906 1911 1915 1917 1921 1922\n",
      " 1927 1934 1937 1943 1945 1947 1950 1952 1959 1960 1961 1976]\n",
      "\n",
      "Prec Values Before:\n",
      "[  8.75018232 -18.66310444 -12.09838482   1.0996222   -9.70986657\n",
      "   8.20686806   7.20308776 -37.94489036 -47.32403561  -2.45680082\n",
      " -18.04909502   9.33745675 -37.01302478 -30.41884367 -11.24393756\n",
      "   4.31060144  -4.45570069   2.27161403  27.0861328   -3.71630677\n",
      " -15.57964518  -1.99616772  22.64709035   3.11829788 -20.99984523\n",
      "  20.80871861 -12.2364533    5.05641391  23.33517252 -63.00952827\n",
      "  28.72066726 -87.1353121    8.98549205 -42.05688265 -58.96682153\n",
      " -43.98945849   1.1782421  -70.2851281  -45.65198353 -59.97379865\n",
      "   1.94167511  -6.35164421 -23.19032123  17.52323452  -8.23355486\n",
      "   3.17972398   7.4191068  -12.46357172 -23.59143171 -10.54353389\n",
      " -16.24592519 -13.06738777 -17.52746926  12.54083566 -47.70760192\n",
      " -24.11569192  -2.33859766  22.91786265 -20.77635143  15.19091802\n",
      "  43.14141993  -3.39920687 -22.19623465 -10.86290812 -16.99852225\n",
      " -19.19805932   4.01655835 -17.47451849 -15.32390404  34.65834743\n",
      " -19.22048847 -30.99293056]\n",
      "\n",
      "Mean Prec: -11.0020767907\n",
      "\n",
      "------------------------------------------------------------------------------------\n",
      "Prec Early Years After:\n",
      "[1982 1989 1990 1992 1993 1994 1995 1997 1998 1999 2000]\n",
      "\n",
      "Prec Values After:\n",
      "[ 14.2094504  -20.42813672 -19.52306819  41.32264945   0.21160925\n",
      "  -8.44494113 -29.72332562  34.17824056 -24.09300605  -0.37378783\n",
      "  -1.4749135 ]\n",
      "\n",
      "Mean Prec: -1.28538448988\n",
      "\n"
     ]
    },
    {
     "data": {
      "text/plain": [
       "[<matplotlib.lines.Line2D at 0x147694390>]"
      ]
     },
     "execution_count": 308,
     "metadata": {},
     "output_type": "execute_result"
    },
    {
     "data": {
      "image/png": "[encoded data removed]",
      "text/plain": [
       "<matplotlib.figure.Figure at 0x14772b860>"
      ]
     },
     "metadata": {},
     "output_type": "display_data"
    }
   ],
   "source": [
    "# Split Prec Series\n",
    "\n",
    "prec_locs   = np.where(np.int64(np.in1d(yr_paul,subset_yrs_before))==1)[0];  \n",
    "prec_before = preJJA_reg_mean_wt_pct[prec_locs]\n",
    "\n",
    "print(\"Prec Early Years Before:\")\n",
    "print(yr_paul[prec_locs])\n",
    "print(\"\")\n",
    "print(\"Prec Values Before:\")\n",
    "print(prec_before)\n",
    "print(\"\")\n",
    "print(\"Mean Prec: \"+np.str(np.mean(prec_before)))\n",
    "print(\"\")\n",
    "print(\"------------------------------------------------------------------------------------\")\n",
    "\n",
    "prec_locs   = np.where(np.int64(np.in1d(yr_paul,subset_yrs_after))==1)[0];   \n",
    "prec_after  = preJJA_reg_mean_wt_pct[prec_locs]\n",
    "\n",
    "print(\"Prec Early Years After:\")\n",
    "print(yr_paul[prec_locs])\n",
    "print(\"\")\n",
    "print(\"Prec Values After:\")\n",
    "print(prec_after)\n",
    "print(\"\")\n",
    "print(\"Mean Prec: \"+np.str(np.mean(prec_after)))\n",
    "print(\"\")\n",
    "\n",
    "#----------------------------------------------------------------------------------------------------------------\n",
    "# Mean/Median Statistical Testing (Student's t-test, Wilcoxon Rank Sum)\n",
    "\n",
    "# Labels\n",
    "group_before = (np.str(yrs_before[0])+'-'+np.str(yrs_before[-1]));\n",
    "group_after  = (np.str(yrs_after[0])+'-'+np.str(yrs_after[-1]));\n",
    "\n",
    "label_1 = (np.tile(group_before,np.size(prec_before)))\n",
    "label_2 = (np.tile(group_after,np.size(prec_after)))\n",
    "\n",
    "# Initialize Matrix\n",
    "mean_median_prec = np.zeros([3,3])\n",
    "\n",
    "# Calculate the mean and median PDSI\n",
    "mean_median_prec[0,0] = np.int64(np.size(prec_before))\n",
    "mean_median_prec[0,1] = np.int64(np.size(prec_after))\n",
    "\n",
    "mean_median_prec[1,0] = np.mean(prec_before)\n",
    "mean_median_prec[1,1] = np.mean(prec_after)\n",
    "mean_median_prec[1,2] = stats.ttest_ind(prec_before, prec_after)[1]\n",
    "\n",
    "mean_median_prec[2,0] = np.median(prec_before)\n",
    "mean_median_prec[2,1] = np.median(prec_after)\n",
    "mean_median_prec[2,2] = stats.ranksums(prec_before, prec_after)[1]\n",
    "\n",
    "# Create A DataFrame for Statistical Results\n",
    "col_core_comp_txt=[label_1[0],label_2[0],\"Diff, Pval\"]\n",
    "row_core_comp_txt=[\"n\",\"Mean Prec\",\"Median Prec\"]\n",
    "df_prec_stat_results  = pd.DataFrame(mean_median_prec, index=row_core_comp_txt, columns=col_core_comp_txt)\n",
    "\n",
    "df_prec_stat_results\n",
    "\n",
    "#----------------------------------------------------------------------------------------------------------------\n",
    "# Create Dataframe (necessary for boxplot with seaborn)\n",
    "col_txt = row_core_comp_txt=[\"Prec\",\"Year\",\"EarlyLate\"]\n",
    "\n",
    "# Find all Early Years\n",
    "df_prec_early      = pd.DataFrame(columns = col_txt)\n",
    "df_prec_early.Prec = prec_early\n",
    "df_prec_early.Year = early_yrs[np.where(early_yrs<=2000)]\n",
    "\n",
    "h=np.where(df_prec_early.Year<=1980)[0]\n",
    "df_prec_early.loc[h,'EarlyLate'] = '1600-1980'\n",
    "\n",
    "h=np.where(df_prec_early.Year>1980)[0]\n",
    "df_prec_early.loc[h,'EarlyLate']  = '1981-2007'\n",
    "\n",
    "# Prec Boxplot\n",
    "sns.plt.close(); sns.set(); \n",
    "sns.set_context(\"notebook\", font_scale=2.7, rc={\"lines.linewidth\": 1.5})\n",
    "fig = sns.plt.figure(figsize=(10,10))\n",
    "sns.boxplot(x=\"EarlyLate\", y=\"Prec\", data=df_prec_early)\n",
    "sns.plt.plot([-10,20],[0,0],'--', color='k',linewidth=1)\n",
    "#sns.plt.title('Mean PDSI, Early Harvests')  \n",
    "#sns.plt.tight_layout\n",
    "#sns.plt.savefig('../figures/step05/ghdcore.boxplot.pdsi.'+label_1[0]+'.'+label_2[0]+'.svg', format='svg', dpi=1200) # vector graphics for adobe illustrator "
   ]
  },
  {
   "cell_type": "markdown",
   "metadata": {},
   "source": [
    "### Result from two sample Student's t-test and Ranksum Test"
   ]
  },
  {
   "cell_type": "code",
   "execution_count": 309,
   "metadata": {
    "collapsed": false
   },
   "outputs": [
    {
     "data": {
      "text/html": [
       "<div>\n",
       "<table border=\"1\" class=\"dataframe\">\n",
       "  <thead>\n",
       "    <tr style=\"text-align: right;\">\n",
       "      <th></th>\n",
       "      <th>1600-1980</th>\n",
       "      <th>1981-2007</th>\n",
       "      <th>Diff, Pval</th>\n",
       "    </tr>\n",
       "  </thead>\n",
       "  <tbody>\n",
       "    <tr>\n",
       "      <th>n</th>\n",
       "      <td>72.000000</td>\n",
       "      <td>11.000000</td>\n",
       "      <td>0.000000</td>\n",
       "    </tr>\n",
       "    <tr>\n",
       "      <th>Mean Prec</th>\n",
       "      <td>-11.002077</td>\n",
       "      <td>-1.285384</td>\n",
       "      <td>0.232533</td>\n",
       "    </tr>\n",
       "    <tr>\n",
       "      <th>Median Prec</th>\n",
       "      <td>-10.703221</td>\n",
       "      <td>-1.474914</td>\n",
       "      <td>0.484940</td>\n",
       "    </tr>\n",
       "  </tbody>\n",
       "</table>\n",
       "</div>"
      ],
      "text/plain": [
       "             1600-1980  1981-2007  Diff, Pval\n",
       "n            72.000000  11.000000    0.000000\n",
       "Mean Prec   -11.002077  -1.285384    0.232533\n",
       "Median Prec -10.703221  -1.474914    0.484940"
      ]
     },
     "execution_count": 309,
     "metadata": {},
     "output_type": "execute_result"
    }
   ],
   "source": [
    "df_prec_stat_results"
   ]
  },
  {
   "cell_type": "markdown",
   "metadata": {},
   "source": [
    "### Student's t versus 0 (i.e., are precipitation composites significantly dry)"
   ]
  },
  {
   "cell_type": "code",
   "execution_count": 314,
   "metadata": {
    "collapsed": false
   },
   "outputs": [
    {
     "name": "stdout",
     "output_type": "stream",
     "text": [
      "\n",
      "Prec Before vs 0 (1 sample)\n",
      "t-stat = -3.70656243898, pval = 0.000412995635771\n",
      "\n",
      "Prec After vs 0 (1 sample)\n",
      "t-stat = -0.18353218759, pval = 0.858048435988\n"
     ]
    }
   ],
   "source": [
    "#%%############################################################################\n",
    "# Mean Statistical Testing versus Zero\n",
    "#mean_median_prec[1,2] = stats.ttest_ind(prec_before, prec_after)[1]\n",
    "print(\"\")\n",
    "print(\"Prec Before vs 0 (1 sample)\")\n",
    "t,p = stats.ttest_1samp(prec_before,0)\n",
    "print(\"t-stat = \"+np.str(t)+\", pval = \"+np.str(p))\n",
    "print(\"\")\n",
    "print(\"Prec After vs 0 (1 sample)\")\n",
    "t,p = stats.ttest_1samp(prec_after,0)\n",
    "print(\"t-stat = \"+np.str(t)+\", pval = \"+np.str(p))"
   ]
  },
  {
   "cell_type": "markdown",
   "metadata": {},
   "source": [
    "### Resampling procedure for precipitation"
   ]
  },
  {
   "cell_type": "code",
   "execution_count": 315,
   "metadata": {
    "collapsed": false
   },
   "outputs": [
    {
     "name": "stdout",
     "output_type": "stream",
     "text": [
      "Resampling Results (One Sided pre-1980 vs 0, pval=0.05) :\n",
      "Fraction t-test pass=0.3736\n",
      "\n",
      "Resampling Results (One Sided pre-1980 vs post-1980, pval=0.10) :\n",
      "Fraction t-test pass=0.2922\n",
      "\n"
     ]
    },
    {
     "data": {
      "text/plain": [
       "(-40, 30)"
      ]
     },
     "execution_count": 315,
     "metadata": {},
     "output_type": "execute_result"
    },
    {
     "data": {
      "image/png": "[encoded data removed]",
      "text/plain": [
       "<matplotlib.figure.Figure at 0x155359668>"
      ]
     },
     "metadata": {},
     "output_type": "display_data"
    }
   ],
   "source": [
    "# Monte-Carlo\n",
    "\n",
    "# Number of iterations\n",
    "num_mc = 10000;\n",
    "\n",
    "# I will draw randomly PDSI values from all early years and calculate average. The number I\n",
    "# draw for each iteration will equal the # early years after 1950.\n",
    "prec_resamp_mean_before    = np.zeros(num_mc)\n",
    "prec_resamp_mean_after     = np.zeros(num_mc)\n",
    "pval_mc_precbefore_onesamp = np.zeros(num_mc)\n",
    "pval_mc_prec_ttest2        = np.zeros(num_mc)\n",
    "\n",
    "# In each iteration, randomly resample (with replacement)\n",
    "for i in np.arange(0,num_mc):\n",
    "    \n",
    "    #print(i)\n",
    "    # First, Generate resampled Prec for before and after periods\n",
    "    prec_resamp_before = bootstrap_resample(prec_before,np.size(prec_after))\n",
    "    prec_resamp_after  = copy.deepcopy(prec_after)\n",
    "\n",
    "    # Now, calculate and store the resampled means\n",
    "    prec_resamp_mean_before[i] = np.mean(prec_resamp_before)\n",
    "    prec_resamp_mean_after[i]  = np.mean(prec_resamp_after)\n",
    "\n",
    "    # Ttest and tests\n",
    "    pval_mc_prec_ttest2[i] = stats.ttest_ind(prec_resamp_before,prec_resamp_after)[1]\n",
    "    pval_mc_precbefore_onesamp[i] = stats.ttest_1samp(prec_resamp_before,0)[1]\n",
    "\n",
    "# Percent Simulations Where ttest and ranksum were significantly different\n",
    "mc_ttest_sig           = np.size(np.where(pval_mc_precbefore_onesamp<=0.1))/np.size(pval_mc_precbefore_onesamp)\n",
    "mc_ttest_sig_twosamp   = np.size(np.where(pval_mc_prec_ttest2<=0.2))/np.size(pval_mc_prec_ttest2)\n",
    " \n",
    "print(\"Resampling Results (One Sided pre-1980 vs 0, pval=0.05) :\")\n",
    "print('Fraction t-test pass='+np.str(mc_ttest_sig))\n",
    "print(\"\")\n",
    "print(\"Resampling Results (One Sided pre-1980 vs post-1980, pval=0.10) :\")\n",
    "print('Fraction t-test pass='+np.str(mc_ttest_sig_twosamp))\n",
    "print(\"\")\n",
    "\n",
    "# Kernal Density Function from Resampling Results\n",
    "sns.set(style=\"darkgrid\")\n",
    "sns.set_context(\"notebook\", font_scale=2.75, rc={\"lines.linewidth\": 1.5})\n",
    "#sns.set_context(\"notebook\", font_scale=2, rc={'axes.labelsize': 64, 'ytick.minor.size': 32, 'axes.titlesize': 30})\n",
    "bins=np.arange(-2.5,1,.125)  \n",
    "sns.plt.figure(figsize=[10,7])     \n",
    "sns.kdeplot(prec_resamp_mean_before,shade=True)\n",
    "sns.kdeplot(prec_resamp_mean_after,shade=True,color='g')\n",
    "#sns.plt.hist(pdsi_synth, bins, normed=True, alpha=0.7);\n",
    "sns.plt.plot([np.mean(prec_before),np.mean(prec_before)],[0,2],'--', color='b')\n",
    "sns.plt.plot([np.mean(prec_after),np.mean(prec_after)],[0,2],'--', color='g')\n",
    "sns.plt.xlabel('Prec')\n",
    "sns.plt.ylabel('density')\n",
    "sns.plt.title('Mean Prec, Early Harvests')  \n",
    "sns.plt.legend(['1600-1980','1981-2007'])\n",
    "sns.plt.tight_layout\n",
    "sns.plt.ylim(0,.07)\n",
    "sns.plt.xlim(-40,30)\n",
    "#sns.plt.savefig('../figures/step05/ghdcore.montecarlo.prec.'+label_1[0]+'.'+label_2[0]+'.svg', format='svg', dpi=1200) # vector graphics for adobe illustrator "
   ]
  },
  {
   "cell_type": "code",
   "execution_count": 311,
   "metadata": {
    "collapsed": false
   },
   "outputs": [
    {
     "name": "stdout",
     "output_type": "stream",
     "text": [
      "DONE!\n",
      "Last run: 2016-01-05 08:15:03.342400\n"
     ]
    }
   ],
   "source": [
    "print(\"DONE!\")\n",
    "print(\"Last run: \"+str(datetime.datetime.now()))"
   ]
  }
 ],
 "metadata": {
  "kernelspec": {
   "display_name": "Python 3",
   "language": "python",
   "name": "python3"
  },
  "language_info": {
   "codemirror_mode": {
    "name": "ipython",
    "version": 3
   },
   "file_extension": ".py",
   "mimetype": "text/x-python",
   "name": "python",
   "nbconvert_exporter": "python",
   "pygments_lexer": "ipython3",
   "version": "3.4.3"
  }
 },
 "nbformat": 4,
 "nbformat_minor": 0
}
